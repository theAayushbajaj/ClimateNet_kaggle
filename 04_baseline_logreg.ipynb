{
 "cells": [
  {
   "cell_type": "code",
   "execution_count": null,
   "metadata": {},
   "outputs": [],
   "source": []
  },
  {
   "cell_type": "code",
   "execution_count": null,
   "metadata": {},
   "outputs": [],
   "source": [
    "def weight_formula(n,c,y):\n",
    "    return n/(c*np.bincount(y))\n",
    "\n",
    "class_weight = weight_formula(len(y_clean), 3, y_clean)\n",
    "# convert list to dict with indices as keys\n",
    "class_weights = {i : class_weight[i] for i in range(0, len(class_weight))}\n",
    "class_weight"
   ]
  },
  {
   "cell_type": "code",
   "execution_count": null,
   "metadata": {},
   "outputs": [],
   "source": [
    "#X = season_adjusted_train.drop(['Label'], axis=1).values\n",
    "#y = season_adjusted_train['Label'].values\n",
    "\n",
    "X_train, X_val, y_train, y_val = train_test_split(X_clean.values, y_clean.values, test_size=0.2, random_state=RANDOM_SEED)"
   ]
  },
  {
   "cell_type": "code",
   "execution_count": null,
   "metadata": {},
   "outputs": [],
   "source": [
    "logreg = LogisticRegression(num_epochs=1000,\n",
    "                            learning_rate=0.001,\n",
    "                            regularization=\"L1\", \n",
    "                            lambda_reg=0.001, \n",
    "                            gamma=2.0 \n",
    "                           #  class_weights=[0.52411666, 8.27534247, 1.923672],\n",
    "                           #  alpha = [0, 0, 0]\n",
    "                         )\n",
    "logreg.fit(X_train, y_train)"
   ]
  },
  {
   "cell_type": "code",
   "execution_count": null,
   "metadata": {},
   "outputs": [],
   "source": [
    "y_pred = logreg.predict(X_val)\n",
    "accuracy = (y_val == y_pred).mean()\n",
    "print(np.unique(y_pred))\n",
    "print(f'Accuracy: {accuracy:.2%}')"
   ]
  },
  {
   "cell_type": "code",
   "execution_count": null,
   "metadata": {},
   "outputs": [],
   "source": [
    "from sklearn.metrics import f1_score, confusion_matrix, roc_curve, auc, \\\n",
    "            classification_report, recall_score, precision_recall_curve\n",
    "            \n",
    "print('1. The F-1 score of the model {}\\n'.format(f1_score(y_val, y_pred, average='macro')))\n",
    "print('2. The recall score of the model {}\\n'.format(recall_score(y_val, y_pred, average='macro')))\n",
    "print('3. Classification report \\n {} \\n'.format(classification_report(y_val, y_pred)))\n",
    "print('4. Confusion matrix \\n {} \\n'.format(confusion_matrix(y_val, y_pred)))"
   ]
  },
  {
   "cell_type": "code",
   "execution_count": null,
   "metadata": {},
   "outputs": [],
   "source": []
  }
 ],
 "metadata": {
  "language_info": {
   "name": "python"
  },
  "orig_nbformat": 4
 },
 "nbformat": 4,
 "nbformat_minor": 2
}
