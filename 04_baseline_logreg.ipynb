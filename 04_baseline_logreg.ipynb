{
 "cells": [
  {
   "cell_type": "code",
   "execution_count": 16,
   "metadata": {},
   "outputs": [
    {
     "name": "stdout",
     "output_type": "stream",
     "text": [
      "The autoreload extension is already loaded. To reload it, use:\n",
      "  %reload_ext autoreload\n"
     ]
    }
   ],
   "source": [
    "%load_ext autoreload\n",
    "%autoreload 2\n",
    "from self_learn import LogisticRegression\n",
    "from utils import *"
   ]
  },
  {
   "cell_type": "code",
   "execution_count": 17,
   "metadata": {},
   "outputs": [],
   "source": [
    "%store -r X_train\n",
    "%store -r X_val\n",
    "%store -r y_train\n",
    "%store -r y_val"
   ]
  },
  {
   "cell_type": "code",
   "execution_count": 26,
   "metadata": {},
   "outputs": [
    {
     "data": {
      "text/html": [
       "Finishing last run (ID:kx3ifqow) before initializing another..."
      ],
      "text/plain": [
       "<IPython.core.display.HTML object>"
      ]
     },
     "metadata": {},
     "output_type": "display_data"
    },
    {
     "data": {
      "text/html": [
       "Waiting for W&B process to finish... <strong style=\"color:green\">(success).</strong>"
      ],
      "text/plain": [
       "<IPython.core.display.HTML object>"
      ]
     },
     "metadata": {},
     "output_type": "display_data"
    },
    {
     "data": {
      "application/vnd.jupyter.widget-view+json": {
       "model_id": "c4f16ddd58034454874ff524ebe2e67e",
       "version_major": 2,
       "version_minor": 0
      },
      "text/plain": [
       "VBox(children=(Label(value='0.002 MB of 0.012 MB uploaded (0.000 MB deduped)\\r'), FloatProgress(value=0.187095…"
      ]
     },
     "metadata": {},
     "output_type": "display_data"
    },
    {
     "data": {
      "text/html": [
       "<style>\n",
       "    table.wandb td:nth-child(1) { padding: 0 10px; text-align: left ; width: auto;} td:nth-child(2) {text-align: left ; width: 100%}\n",
       "    .wandb-row { display: flex; flex-direction: row; flex-wrap: wrap; justify-content: flex-start; width: 100% }\n",
       "    .wandb-col { display: flex; flex-direction: column; flex-basis: 100%; flex: 1; padding: 10px; }\n",
       "    </style>\n",
       "<div class=\"wandb-row\"><div class=\"wandb-col\"><h3>Run history:</h3><br/><table class=\"wandb\"><tr><td>epoch</td><td>▁▂▃▃▄▅▆▆▇█</td></tr><tr><td>train_accuracy</td><td>▁▆▇▇▇█████</td></tr><tr><td>train_loss</td><td>█▂▂▁▁▁▁▁▁▁</td></tr><tr><td>val_accuracy</td><td>▁▆▇▇██████</td></tr></table><br/></div><div class=\"wandb-col\"><h3>Run summary:</h3><br/><table class=\"wandb\"><tr><td>cross_val_score</td><td>0.62417</td></tr><tr><td>epoch</td><td>900</td></tr><tr><td>train_accuracy</td><td>0.56184</td></tr><tr><td>train_loss</td><td>5543.09078</td></tr><tr><td>val_accuracy</td><td>0.62417</td></tr><tr><td>val_f1</td><td>0.55869</td></tr></table><br/></div></div>"
      ],
      "text/plain": [
       "<IPython.core.display.HTML object>"
      ]
     },
     "metadata": {},
     "output_type": "display_data"
    },
    {
     "data": {
      "text/html": [
       " View run <strong style=\"color:#cdcd00\">dazzling-eon-75</strong> at: <a href='https://wandb.ai/aayushbajaj/ClimateNet/runs/kx3ifqow' target=\"_blank\">https://wandb.ai/aayushbajaj/ClimateNet/runs/kx3ifqow</a><br/>Synced 6 W&B file(s), 1 media file(s), 1 artifact file(s) and 0 other file(s)"
      ],
      "text/plain": [
       "<IPython.core.display.HTML object>"
      ]
     },
     "metadata": {},
     "output_type": "display_data"
    },
    {
     "data": {
      "text/html": [
       "Find logs at: <code>./wandb/run-20231102_230810-kx3ifqow/logs</code>"
      ],
      "text/plain": [
       "<IPython.core.display.HTML object>"
      ]
     },
     "metadata": {},
     "output_type": "display_data"
    },
    {
     "data": {
      "text/html": [
       "Successfully finished last run (ID:kx3ifqow). Initializing new run:<br/>"
      ],
      "text/plain": [
       "<IPython.core.display.HTML object>"
      ]
     },
     "metadata": {},
     "output_type": "display_data"
    },
    {
     "data": {
      "application/vnd.jupyter.widget-view+json": {
       "model_id": "c5fdd004f80747f6b7dc2e1f9f1e991f",
       "version_major": 2,
       "version_minor": 0
      },
      "text/plain": [
       "VBox(children=(Label(value='Waiting for wandb.init()...\\r'), FloatProgress(value=0.011147726388905236, max=1.0…"
      ]
     },
     "metadata": {},
     "output_type": "display_data"
    },
    {
     "data": {
      "text/html": [
       "Tracking run with wandb version 0.15.12"
      ],
      "text/plain": [
       "<IPython.core.display.HTML object>"
      ]
     },
     "metadata": {},
     "output_type": "display_data"
    },
    {
     "data": {
      "text/html": [
       "Run data is saved locally in <code>/Users/microbot/Masters/IFT6390_FundamentalsOfML/Kaggle_competition/wandb/run-20231102_230858-xipinlep</code>"
      ],
      "text/plain": [
       "<IPython.core.display.HTML object>"
      ]
     },
     "metadata": {},
     "output_type": "display_data"
    },
    {
     "data": {
      "text/html": [
       "Syncing run <strong><a href='https://wandb.ai/aayushbajaj/ClimateNet/runs/xipinlep' target=\"_blank\">grateful-plant-76</a></strong> to <a href='https://wandb.ai/aayushbajaj/ClimateNet' target=\"_blank\">Weights & Biases</a> (<a href='https://wandb.me/run' target=\"_blank\">docs</a>)<br/>"
      ],
      "text/plain": [
       "<IPython.core.display.HTML object>"
      ]
     },
     "metadata": {},
     "output_type": "display_data"
    },
    {
     "data": {
      "text/html": [
       " View project at <a href='https://wandb.ai/aayushbajaj/ClimateNet' target=\"_blank\">https://wandb.ai/aayushbajaj/ClimateNet</a>"
      ],
      "text/plain": [
       "<IPython.core.display.HTML object>"
      ]
     },
     "metadata": {},
     "output_type": "display_data"
    },
    {
     "data": {
      "text/html": [
       " View run at <a href='https://wandb.ai/aayushbajaj/ClimateNet/runs/xipinlep' target=\"_blank\">https://wandb.ai/aayushbajaj/ClimateNet/runs/xipinlep</a>"
      ],
      "text/plain": [
       "<IPython.core.display.HTML object>"
      ]
     },
     "metadata": {},
     "output_type": "display_data"
    },
    {
     "name": "stdout",
     "output_type": "stream",
     "text": [
      "Epoch 0, Loss: 11972.678461449948, Train Accuracy: 0.31615755989712585, Val Accuracy: 0.24958333333333332\n",
      "Epoch 100, Loss: 6780.022936765312, Train Accuracy: 0.46965663493209403, Val Accuracy: 0.505\n",
      "Epoch 200, Loss: 6215.506394396225, Train Accuracy: 0.5093173306862789, Val Accuracy: 0.5775\n",
      "Epoch 300, Loss: 5972.109769188968, Train Accuracy: 0.5247484546315931, Val Accuracy: 0.5991666666666666\n",
      "Epoch 400, Loss: 5832.579438779899, Train Accuracy: 0.5373370031132969, Val Accuracy: 0.6129166666666667\n",
      "Epoch 500, Loss: 5740.4041395218555, Train Accuracy: 0.5451879258223165, Val Accuracy: 0.6204166666666666\n",
      "Epoch 600, Loss: 5674.082681133758, Train Accuracy: 0.550692595767721, Val Accuracy: 0.625\n",
      "Epoch 700, Loss: 5623.58665857722, Train Accuracy: 0.5545278166313224, Val Accuracy: 0.6283333333333333\n",
      "Epoch 800, Loss: 5583.584451431482, Train Accuracy: 0.5586788792131029, Val Accuracy: 0.6283333333333333\n",
      "Epoch 900, Loss: 5550.9663621920545, Train Accuracy: 0.5615665749221675, Val Accuracy: 0.63\n"
     ]
    }
   ],
   "source": [
    "logreg = LogisticRegression(num_epochs=1000,\n",
    "                            learning_rate=0.01,\n",
    "                            regularization=\"L2\", \n",
    "                            lambda_reg=0.1, \n",
    "                            gamma=2,\n",
    "                            validation=True,\n",
    "                            class_weights=[0.54176468, 7.36963696, 1.66483665],\n",
    "                            #alpha = [0.08, 0.50, 0.1],\n",
    "                            logging_notes=\"FE: Squared transformation, trigonometric temporal features, class weights\",\n",
    "                            logging_tag=\"baseline_logreg\",\n",
    "                            verbose=1)\n",
    "logreg.fit(X = X_train.values, \n",
    "          y = y_train.values,\n",
    "          X_val = X_val.values,\n",
    "          y_val = y_val.values)"
   ]
  },
  {
   "cell_type": "code",
   "execution_count": 27,
   "metadata": {},
   "outputs": [
    {
     "name": "stdout",
     "output_type": "stream",
     "text": [
      "[0 1 2]\n",
      "Accuracy: 63.38%\n"
     ]
    }
   ],
   "source": [
    "y_pred = logreg.predict(X_val.values)\n",
    "accuracy = (y_val == y_pred).mean()\n",
    "print(np.unique(y_pred))\n",
    "print(f'Accuracy: {accuracy:.2%}')"
   ]
  },
  {
   "cell_type": "code",
   "execution_count": 28,
   "metadata": {},
   "outputs": [
    {
     "name": "stdout",
     "output_type": "stream",
     "text": [
      "1. The F-1 score of the model 0.5634904716579431\n",
      "\n",
      "2. The recall score of the model 0.829806398141033\n",
      "\n",
      "3. Classification report \n",
      "               precision    recall  f1-score   support\n",
      "\n",
      "           0       0.99      0.53      0.69      1836\n",
      "           1       0.21      0.97      0.35       112\n",
      "           2       0.49      0.99      0.66       452\n",
      "\n",
      "    accuracy                           0.63      2400\n",
      "   macro avg       0.56      0.83      0.56      2400\n",
      "weighted avg       0.86      0.63      0.67      2400\n",
      " \n",
      "\n",
      "4. Confusion matrix \n",
      " [[964 406 466]\n",
      " [  3 109   0]\n",
      " [  4   0 448]] \n",
      "\n"
     ]
    }
   ],
   "source": [
    "get_classification_report(y_val, y_pred)"
   ]
  },
  {
   "cell_type": "code",
   "execution_count": null,
   "metadata": {},
   "outputs": [],
   "source": []
  }
 ],
 "metadata": {
  "kernelspec": {
   "display_name": "eda",
   "language": "python",
   "name": "python3"
  },
  "language_info": {
   "codemirror_mode": {
    "name": "ipython",
    "version": 3
   },
   "file_extension": ".py",
   "mimetype": "text/x-python",
   "name": "python",
   "nbconvert_exporter": "python",
   "pygments_lexer": "ipython3",
   "version": "3.11.4"
  },
  "orig_nbformat": 4
 },
 "nbformat": 4,
 "nbformat_minor": 2
}
